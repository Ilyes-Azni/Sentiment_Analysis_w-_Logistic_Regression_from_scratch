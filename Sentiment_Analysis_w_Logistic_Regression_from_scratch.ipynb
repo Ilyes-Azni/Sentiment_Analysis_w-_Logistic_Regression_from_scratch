{
  "nbformat": 4,
  "nbformat_minor": 0,
  "metadata": {
    "colab": {
      "provenance": []
    },
    "kernelspec": {
      "name": "python3",
      "display_name": "Python 3"
    },
    "language_info": {
      "name": "python"
    }
  },
  "cells": [
    {
      "cell_type": "code",
      "metadata": {
        "id": "pG9eugOTJYNO"
      },
      "source": [
        "# importing necessary libraries\n",
        "\n",
        "import nltk, re, string\n",
        "from nltk.corpus import stopwords, twitter_samples\n",
        "import numpy as np\n",
        "import pickle"
      ],
      "execution_count": 1,
      "outputs": []
    },
    {
      "cell_type": "markdown",
      "source": [
        "# Data preprocessing"
      ],
      "metadata": {
        "id": "2boLM6eam2lo"
      }
    },
    {
      "cell_type": "code",
      "metadata": {
        "id": "CkaGbJoUJoOC"
      },
      "source": [
        "\n",
        "\n",
        "def process_tweet(tweet):\n",
        "    stemmer = nltk.PorterStemmer()\n",
        "    stopwords_english = stopwords.words('english')\n",
        "    tweet = re.sub(r'\\$\\w*', '', tweet)\n",
        "    tweet = re.sub(r'^RT[\\s]+', '', tweet)\n",
        "    tweet = re.sub(r'https?:\\/\\/.*[\\r\\n]*', '', tweet)\n",
        "    tweet = re.sub(r'#', '', tweet)\n",
        "    tokenizer = nltk.TweetTokenizer(preserve_case=False, strip_handles=True, reduce_len=True)\n",
        "    tweet_tokens = tokenizer.tokenize(tweet)\n",
        "\n",
        "    tweets_clean = []\n",
        "    for word in tweet_tokens:\n",
        "        if (word not in stopwords_english and\n",
        "                word not in string.punctuation):\n",
        "            stem_word = stemmer.stem(word)  \n",
        "            tweets_clean.append(stem_word)\n",
        "\n",
        "    return tweets_clean\n"
      ],
      "execution_count": 2,
      "outputs": []
    },
    {
      "cell_type": "markdown",
      "source": [
        "# Créer la fonction fréquence\n",
        "\n",
        "On va définir une fonction pour avoir la fréquence d'un  ou plusieurs mots dans le data set. Cette étape est cruciale car le modèle va être entraîné sur les données qui en ressortiront."
      ],
      "metadata": {
        "id": "cwPxko1Xnegy"
      }
    },
    {
      "cell_type": "code",
      "metadata": {
        "id": "aPTgml3SJ0pJ"
      },
      "source": [
        "def build_freqs(tweets, ys):\n",
        "   \n",
        "    yslist = np.squeeze(ys).tolist()\n",
        "\n",
        "   \n",
        "    freqs = {}\n",
        "    for y, tweet in zip(yslist, tweets):\n",
        "        for word in process_tweet(tweet):\n",
        "            pair = (word, y)\n",
        "            if pair in freqs:\n",
        "                freqs[pair] += 1\n",
        "            else:\n",
        "                freqs[pair] = 1\n",
        "\n",
        "    return freqs"
      ],
      "execution_count": 3,
      "outputs": []
    },
    {
      "cell_type": "code",
      "source": [
        "import nltk\n",
        "nltk.download('stopwords')"
      ],
      "metadata": {
        "colab": {
          "base_uri": "https://localhost:8080/"
        },
        "id": "U_J6VH1GxEgK",
        "outputId": "ed9d125e-cc60-4dff-947e-07b90cf2a130"
      },
      "execution_count": 4,
      "outputs": [
        {
          "output_type": "stream",
          "name": "stderr",
          "text": [
            "[nltk_data] Downloading package stopwords to /root/nltk_data...\n",
            "[nltk_data]   Unzipping corpora/stopwords.zip.\n"
          ]
        },
        {
          "output_type": "execute_result",
          "data": {
            "text/plain": [
              "True"
            ]
          },
          "metadata": {},
          "execution_count": 4
        }
      ]
    },
    {
      "cell_type": "markdown",
      "source": [
        "Ci dessous un exemple de comment la fonction marche"
      ],
      "metadata": {
        "id": "IuRTL6Hvn1Xq"
      }
    },
    {
      "cell_type": "code",
      "metadata": {
        "colab": {
          "base_uri": "https://localhost:8080/"
        },
        "id": "Y61jYX3fUkkU",
        "outputId": "09d2079a-af45-4acf-b27f-59bbed0e31ad"
      },
      "source": [
        "\n",
        "\n",
        "tweets = ['i am happy', 'i am tricked', 'i am sad', 'i am tired', 'i am tired']\n",
        "ys = [1, 0, 0, 0, 0]\n",
        "res = build_freqs(tweets, ys)\n",
        "print(res)"
      ],
      "execution_count": 5,
      "outputs": [
        {
          "output_type": "stream",
          "name": "stdout",
          "text": [
            "{('happi', 1): 1, ('trick', 0): 1, ('sad', 0): 1, ('tire', 0): 2}\n"
          ]
        }
      ]
    },
    {
      "cell_type": "code",
      "source": [
        "import nltk\n",
        "nltk.download('twitter_samples')"
      ],
      "metadata": {
        "colab": {
          "base_uri": "https://localhost:8080/"
        },
        "id": "ZBJ6V09nxPHr",
        "outputId": "5a5d4aa7-2ffb-4242-9d03-e00155181b39"
      },
      "execution_count": 6,
      "outputs": [
        {
          "output_type": "stream",
          "name": "stderr",
          "text": [
            "[nltk_data] Downloading package twitter_samples to /root/nltk_data...\n",
            "[nltk_data]   Unzipping corpora/twitter_samples.zip.\n"
          ]
        },
        {
          "output_type": "execute_result",
          "data": {
            "text/plain": [
              "True"
            ]
          },
          "metadata": {},
          "execution_count": 6
        }
      ]
    },
    {
      "cell_type": "markdown",
      "source": [
        "On déclare le data set dans deux variables : une négative et une positive"
      ],
      "metadata": {
        "id": "zeGwWB33n8l2"
      }
    },
    {
      "cell_type": "code",
      "metadata": {
        "id": "hxViCeI-KDN7"
      },
      "source": [
        "\n",
        "all_positive_tweets = twitter_samples.strings('positive_tweets.json')\n",
        "all_negative_tweets = twitter_samples.strings('negative_tweets.json')"
      ],
      "execution_count": 7,
      "outputs": []
    },
    {
      "cell_type": "code",
      "metadata": {
        "id": "03NIPdv1KF96"
      },
      "source": [
        "\n",
        "test_pos = all_positive_tweets[4000:]\n",
        "train_pos = all_positive_tweets[:4000]\n",
        "test_neg = all_negative_tweets[4000:]\n",
        "train_neg = all_negative_tweets[:4000]"
      ],
      "execution_count": 8,
      "outputs": []
    },
    {
      "cell_type": "code",
      "metadata": {
        "id": "MOGG2-3WKRQ7"
      },
      "source": [
        "train_x = train_pos + train_neg\n",
        "test_x = test_pos + test_neg"
      ],
      "execution_count": 9,
      "outputs": []
    },
    {
      "cell_type": "code",
      "metadata": {
        "id": "dGQdgF5VKTia"
      },
      "source": [
        "\n",
        "train_y = np.append(np.ones((len(train_pos), 1)), np.zeros((len(train_neg), 1)), axis=0)\n",
        "test_y = np.append(np.ones((len(test_pos), 1)), np.zeros((len(test_neg), 1)), axis=0)"
      ],
      "execution_count": 10,
      "outputs": []
    },
    {
      "cell_type": "code",
      "metadata": {
        "id": "QVDUs1paKb4z"
      },
      "source": [
        "\n",
        "freqs = build_freqs(train_x, train_y)"
      ],
      "execution_count": 11,
      "outputs": []
    },
    {
      "cell_type": "code",
      "metadata": {
        "colab": {
          "base_uri": "https://localhost:8080/"
        },
        "id": "IV5_4qVUKewa",
        "outputId": "64160f88-5ff9-47cb-bfb2-65ed92673a05"
      },
      "source": [
        "# check out the output\n",
        "\n",
        "print(\"type(freqs) = \" + str(type(freqs)))\n",
        "print(\"len(freqs) = \" + str(len(freqs.keys())))"
      ],
      "execution_count": 12,
      "outputs": [
        {
          "output_type": "stream",
          "name": "stdout",
          "text": [
            "type(freqs) = <class 'dict'>\n",
            "len(freqs) = 11337\n"
          ]
        }
      ]
    },
    {
      "cell_type": "code",
      "metadata": {
        "colab": {
          "base_uri": "https://localhost:8080/"
        },
        "id": "ZyVQ7YMoKp2T",
        "outputId": "05926bd0-147d-4933-ce77-c6c8cdca4f9c"
      },
      "source": [
        "# Ceci est le test de la fonction process qui permet de faire le stemming et la tokenization\n",
        "\n",
        "print('This is an example of a positive tweet: \\n', train_x[22])\n",
        "print('\\nThis is an example of the processed version of the tweet: \\n', process_tweet(train_x[22]))"
      ],
      "execution_count": 13,
      "outputs": [
        {
          "output_type": "stream",
          "name": "stdout",
          "text": [
            "This is an example of a positive tweet: \n",
            " @gculloty87 Yeah I suppose she was lol! Chat in a bit just off out x :))\n",
            "\n",
            "This is an example of the processed version of the tweet: \n",
            " ['yeah', 'suppos', 'lol', 'chat', 'bit', 'x', ':)']\n"
          ]
        }
      ]
    },
    {
      "cell_type": "code",
      "metadata": {
        "id": "RCaQzncSKwL_"
      },
      "source": [
        "\n",
        "def sigmoid(z):\n",
        "  \n",
        "    zz = np.negative(z)\n",
        "    h = 1 / (1 + np.exp(zz))\n",
        "    return h"
      ],
      "execution_count": 14,
      "outputs": []
    },
    {
      "cell_type": "code",
      "metadata": {
        "id": "ARg-_KLtK-ZX"
      },
      "source": [
        "\n",
        "def gradientDescent(x, y, theta, alpha, num_iters):\n",
        "  \n",
        "    \n",
        "    m = x.shape[0]\n",
        "    for i in range(0, num_iters):\n",
        "        z = np.dot(x, theta)\n",
        "        h = sigmoid(z)\n",
        "     #Calcul de la cost function\n",
        "        cost = -1. / m * (np.dot(y.transpose(), np.log(h)) + np.dot((1 - y).transpose(), np.log(1 - h)))\n",
        "        \n",
        "        theta = theta - (alpha / m) * np.dot(x.transpose(), (h - y))\n",
        "\n",
        "    cost = float(cost)\n",
        "    return cost, theta\n"
      ],
      "execution_count": 15,
      "outputs": []
    },
    {
      "cell_type": "code",
      "metadata": {
        "id": "i3RneTodLBcC"
      },
      "source": [
        "\n",
        "\n",
        "def extract_features(tweet, freqs):\n",
        "  \n",
        "\n",
        "    word_l = process_tweet(tweet)\n",
        "    x = np.zeros((1, 3))\n",
        "\n",
        "    x[0, 0] = 1\n",
        "\n",
        "    for word in word_l:\n",
        "       \n",
        "        x[0, 1] += freqs.get((word, 1.0), 0)\n",
        "       \n",
        "        x[0, 2] += freqs.get((word, 0.0), 0)\n",
        "\n",
        "    assert (x.shape == (1, 3))\n",
        "    return x"
      ],
      "execution_count": 16,
      "outputs": []
    },
    {
      "cell_type": "code",
      "metadata": {
        "colab": {
          "base_uri": "https://localhost:8080/"
        },
        "id": "dSTFB_uCLEdz",
        "outputId": "bc7fe12a-781c-45b1-cd90-aa5fd5e14c81"
      },
      "source": [
        "\n",
        "\n",
        "tmp1 = extract_features(train_x[22], freqs)\n",
        "print(tmp1)"
      ],
      "execution_count": 17,
      "outputs": [
        {
          "output_type": "stream",
          "name": "stdout",
          "text": [
            "[[1.000e+00 3.006e+03 1.240e+02]]\n"
          ]
        }
      ]
    },
    {
      "cell_type": "code",
      "metadata": {
        "id": "4lUutIScOWj7"
      },
      "source": [
        "\n",
        "X = np.zeros((len(train_x), 3))\n",
        "for i in range(len(train_x)):\n",
        "    X[i, :] = extract_features(train_x[i], freqs)\n",
        "\n",
        "\n",
        "Y = train_y\n",
        "\n",
        "J, theta = gradientDescent(X, Y, np.zeros((3, 1)), 1e-9, 1500)"
      ],
      "execution_count": 18,
      "outputs": []
    },
    {
      "cell_type": "code",
      "metadata": {
        "id": "mUJ-lXxfOcvJ"
      },
      "source": [
        "def predict_tweet(tweet, freqs, theta):\n",
        "\n",
        "    x = extract_features(tweet, freqs)\n",
        "    y_pred = sigmoid(np.dot(x, theta))\n",
        "\n",
        "    return y_pred\n"
      ],
      "execution_count": 19,
      "outputs": []
    },
    {
      "cell_type": "code",
      "metadata": {
        "id": "EDQP49HuOhjt"
      },
      "source": [
        "def test_logistic_regression(test_x, test_y, freqs, theta):\n",
        "    \n",
        "    y_hat = []\n",
        "\n",
        "    for tweet in test_x:\n",
        "   \n",
        "        y_pred = predict_tweet(tweet, freqs, theta)\n",
        "        if y_pred > 0.5:\n",
        "            y_hat.append(1)\n",
        "        else:\n",
        "            y_hat.append(0)\n",
        "\n",
        "    accuracy = (y_hat == np.squeeze(test_y)).sum() / len(test_x)\n",
        "\n",
        "    return accuracy"
      ],
      "execution_count": 20,
      "outputs": []
    },
    {
      "cell_type": "code",
      "metadata": {
        "colab": {
          "base_uri": "https://localhost:8080/"
        },
        "id": "9-B599jISbFd",
        "outputId": "232710fc-54c8-497c-8dbd-9a72b6995e2f"
      },
      "source": [
        "tmp_accuracy = test_logistic_regression(test_x, test_y, freqs, theta)\n",
        "print(f\"Logistic regression model's accuracy = {tmp_accuracy:.4f}\")"
      ],
      "execution_count": 21,
      "outputs": [
        {
          "output_type": "stream",
          "name": "stdout",
          "text": [
            "Logistic regression model's accuracy = 0.9950\n"
          ]
        }
      ]
    },
    {
      "cell_type": "code",
      "metadata": {
        "id": "w1RuRdapSdYB"
      },
      "source": [
        "\n",
        "\n",
        "def pre(sentence):\n",
        "    yhat = predict_tweet(sentence, freqs, theta)\n",
        "    if yhat > 0.5:\n",
        "        return 'Positive sentiment'\n",
        "    elif yhat == 0:\n",
        "        return 'Neutral sentiment'\n",
        "    else:\n",
        "        return 'Negative sentiment'"
      ],
      "execution_count": 22,
      "outputs": []
    },
    {
      "cell_type": "code",
      "metadata": {
        "colab": {
          "base_uri": "https://localhost:8080/"
        },
        "id": "UfaCSbBzSoG7",
        "outputId": "153d5728-e5af-4ef4-adef-7148278ecc02"
      },
      "source": [
        "my_tweet = 'It is so hot today but it is the perfect day for a beach party'\n",
        "\n",
        "res = pre(my_tweet)\n",
        "print(res)"
      ],
      "execution_count": 23,
      "outputs": [
        {
          "output_type": "stream",
          "name": "stdout",
          "text": [
            "Positive sentiment\n"
          ]
        }
      ]
    }
  ]
}